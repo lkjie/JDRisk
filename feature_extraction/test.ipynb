{
 "cells": [
  {
   "cell_type": "code",
   "execution_count": 6,
   "metadata": {
    "collapsed": true
   },
   "outputs": [],
   "source": [
    "import pandas as pd\n",
    "import datetime\n",
    "import numpy as np\n",
    "import sys,os\n",
    "os.chdir('/home/share/JD/Loan_Forecasting_Qualification/feature_extraction')\n",
    "test_feature = pd.read_csv('processedByMonth/user.csv').drop('Unnamed: 0',axis=1)\n",
    "train_feature = pd.read_csv('processedByMonth/user.csv').drop('Unnamed: 0',axis=1)\n",
    "train_month = ['08','09','10']\n",
    "test_month = ['09','10','11']\n",
    "for mt in train_month:\n",
    "    click = pd.read_csv('processedByMonth/click_%s_month.csv'%mt).drop('Unnamed: 0',axis=1)\n",
    "    loan = pd.read_csv('processedByMonth/loan_%s_month.csv'%mt).drop('Unnamed: 0',axis=1)\n",
    "    order = pd.read_csv('processedByMonth/order_%s_month.csv'%mt).drop('Unnamed: 0',axis=1)\n",
    "    train_feature = pd.merge(train_feature, click,'left',on='uid')\n",
    "    train_feature = pd.merge(train_feature, loan, 'left', on='uid')\n",
    "    train_feature = pd.merge(train_feature, order, 'left', on='uid')"
   ]
  },
  {
   "cell_type": "code",
   "execution_count": 8,
   "metadata": {},
   "outputs": [],
   "source": [
    "train_feature.to_csv('../model_file/train_feature_1201.csv')"
   ]
  },
  {
   "cell_type": "code",
   "execution_count": 9,
   "metadata": {},
   "outputs": [
    {
     "data": {
      "text/plain": [
       "(90993,)"
      ]
     },
     "execution_count": 9,
     "metadata": {},
     "output_type": "execute_result"
    }
   ],
   "source": [
    "train_feature['uid'].shape"
   ]
  },
  {
   "cell_type": "code",
   "execution_count": 13,
   "metadata": {},
   "outputs": [
    {
     "data": {
      "text/plain": [
       "(90993, 39)"
      ]
     },
     "execution_count": 13,
     "metadata": {},
     "output_type": "execute_result"
    }
   ],
   "source": [
    "train_feature.groupby(level=0).first().shape"
   ]
  },
  {
   "cell_type": "code",
   "execution_count": null,
   "metadata": {},
   "outputs": [],
   "source": [
    ""
   ]
  }
 ],
 "metadata": {
  "kernelspec": {
   "display_name": "Python 2",
   "language": "python",
   "name": "python2"
  },
  "language_info": {
   "codemirror_mode": {
    "name": "ipython",
    "version": 2.0
   },
   "file_extension": ".py",
   "mimetype": "text/x-python",
   "name": "python",
   "nbconvert_exporter": "python",
   "pygments_lexer": "ipython2",
   "version": "2.7.6"
  }
 },
 "nbformat": 4,
 "nbformat_minor": 0
}