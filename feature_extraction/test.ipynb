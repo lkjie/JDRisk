{
 "cells": [
  {
   "cell_type": "code",
   "execution_count": 6,
   "metadata": {
    "collapsed": true
   },
   "outputs": [],
   "source": [
    "import pandas as pd\n",
    "import datetime\n",
    "import numpy as np\n",
    "import sys,os\n",
    "os.chdir('/home/share/JD/Loan_Forecasting_Qualification/feature_extraction')\n",
    "test_feature = pd.read_csv('processedByMonth/user.csv').drop('Unnamed: 0',axis=1)\n",
    "train_feature = pd.read_csv('processedByMonth/user.csv').drop('Unnamed: 0',axis=1)\n",
    "train_month = ['08','09','10']\n",
    "test_month = ['09','10','11']\n",
    "for mt in train_month:\n",
    "    click = pd.read_csv('processedByMonth/click_%s_month.csv'%mt).drop('Unnamed: 0',axis=1)\n",
    "    loan = pd.read_csv('processedByMonth/loan_%s_month.csv'%mt).drop('Unnamed: 0',axis=1)\n",
    "    order = pd.read_csv('processedByMonth/order_%s_month.csv'%mt).drop('Unnamed: 0',axis=1)\n",
    "    train_feature = pd.merge(train_feature, click,'left',on='uid')\n",
    "    train_feature = pd.merge(train_feature, loan, 'left', on='uid')\n",
    "    train_feature = pd.merge(train_feature, order, 'left', on='uid')"
   ]
  },
  {
   "cell_type": "code",
   "execution_count": 14,
   "metadata": {},
   "outputs": [],
   "source": [
    "import pandas as pd\n",
    "import datetime\n",
    "import numpy as np\n",
    "import sys, os\n",
    "os.chdir('/home/share/JD/Loan_Forecasting_Qualification/feature_extraction')\n",
    "loan_11_dif = pd.read_csv('midProcessed/loan_merge_11_diff.csv').drop(['Unnamed: 0'],axis=1)\n",
    "loan_11 = pd.read_csv('midProcessed/t_loan_11.csv').drop(['Unnamed: 0'],axis=1)\n",
    "loan_11_source = pd.read_csv('../data/t_loan_sum.csv')"
   ]
  },
  {
   "cell_type": "code",
   "execution_count": 29,
   "metadata": {},
   "outputs": [
    {
     "data": {
      "text/plain": [
       "(90993, 39)"
      ]
     },
     "execution_count": 29,
     "metadata": {},
     "output_type": "execute_result"
    }
   ],
   "source": [
    "test = pd.read_csv('../model_file/test_feature_1201.csv')\n",
    "test.shape"
   ]
  },
  {
   "cell_type": "code",
   "execution_count": 33,
   "metadata": {
    "collapsed": false
   },
   "outputs": [
    {
     "data": {
      "text/plain": [
       "Index(['loan_amount__abs_energy', 'loan_amount__absolute_sum_of_changes',\n       'loan_amount__agg_autocorrelation__f_agg_\"mean\"',\n       'loan_amount__agg_autocorrelation__f_agg_\"median\"',\n       'loan_amount__agg_autocorrelation__f_agg_\"var\"',\n       'loan_amount__agg_linear_trend__f_agg_\"max\"__chunk_len_10__attr_\"intercept\"',\n       'loan_amount__agg_linear_trend__f_agg_\"max\"__chunk_len_10__attr_\"rvalue\"',\n       'loan_amount__agg_linear_trend__f_agg_\"max\"__chunk_len_10__attr_\"slope\"',\n       'loan_amount__agg_linear_trend__f_agg_\"max\"__chunk_len_10__attr_\"stderr\"',\n       'loan_amount__agg_linear_trend__f_agg_\"max\"__chunk_len_50__attr_\"intercept\"',\n       ...\n       'plannum__time_reversal_asymmetry_statistic__lag_1',\n       'plannum__time_reversal_asymmetry_statistic__lag_2',\n       'plannum__time_reversal_asymmetry_statistic__lag_3',\n       'plannum__value_count__value_-inf', 'plannum__value_count__value_0',\n       'plannum__value_count__value_1', 'plannum__value_count__value_inf',\n       'plannum__value_count__value_nan', 'plannum__variance',\n       'plannum__variance_larger_than_standard_deviation'],\n      dtype='object', name='variable', length=1588)"
      ]
     },
     "execution_count": 33,
     "metadata": {},
     "output_type": "execute_result"
    }
   ],
   "source": [
    "ts_loan.columns"
   ]
  },
  {
   "cell_type": "code",
   "execution_count": null,
   "metadata": {},
   "outputs": [],
   "source": [
    ""
   ]
  }
 ],
 "metadata": {
  "kernelspec": {
   "display_name": "Python 2",
   "language": "python",
   "name": "python2"
  },
  "language_info": {
   "codemirror_mode": {
    "name": "ipython",
    "version": 2.0
   },
   "file_extension": ".py",
   "mimetype": "text/x-python",
   "name": "python",
   "nbconvert_exporter": "python",
   "pygments_lexer": "ipython2",
   "version": "2.7.6"
  }
 },
 "nbformat": 4,
 "nbformat_minor": 0
}