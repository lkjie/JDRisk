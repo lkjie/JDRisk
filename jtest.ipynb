{
 "cells": [
  {
   "cell_type": "code",
   "execution_count": 4,
   "metadata": {
    "collapsed": true
   },
   "outputs": [],
   "source": [
    "import pandas as pd\n",
    "\n",
    "t_click = pd.read_csv('data/t_click.csv')\n",
    "t_loan = pd.read_csv('data/t_loan.csv')\n",
    "t_loan_sum = pd.read_csv('data/t_loan_sum.csv')\n",
    "t_order = pd.read_csv('data/t_order.csv')\n",
    "t_user = pd.read_csv('data/t_user.csv')"
   ]
  },
  {
   "cell_type": "code",
   "execution_count": 4,
   "metadata": {},
   "outputs": [],
   "source": [
    "t_loan_8 = t_loan[(t_loan['loan_time']>=\"2016-08-01 00:00:00\") & (t_loan['loan_time']<\"2016-09-01 00:00:00\")]\n",
    "t_loan_9 = t_loan[(t_loan['loan_time']>=\"2016-09-01 00:00:00\") & (t_loan['loan_time']<\"2016-10-01 00:00:00\")]\n",
    "t_loan_10 = t_loan[(t_loan['loan_time']>=\"2016-10-01 00:00:00\") & (t_loan['loan_time']<\"2016-11-01 00:00:00\")]\n",
    "t_loan_11 = t_loan[(t_loan['loan_time']>=\"2016-11-01 00:00:00\") & (t_loan['loan_time']<\"2016-12-01 00:00:00\")]"
   ]
  },
  {
   "cell_type": "code",
   "execution_count": null,
   "metadata": {},
   "outputs": [],
   "source": [
    ""
   ]
  }
 ],
 "metadata": {
  "kernelspec": {
   "display_name": "Python 2",
   "language": "python",
   "name": "python2"
  },
  "language_info": {
   "codemirror_mode": {
    "name": "ipython",
    "version": 2.0
   },
   "file_extension": ".py",
   "mimetype": "text/x-python",
   "name": "python",
   "nbconvert_exporter": "python",
   "pygments_lexer": "ipython2",
   "version": "2.7.6"
  }
 },
 "nbformat": 4,
 "nbformat_minor": 0
}