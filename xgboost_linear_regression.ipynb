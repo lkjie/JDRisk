{
 "cells": [
  {
   "cell_type": "code",
   "execution_count": null,
   "metadata": {
    "collapsed": false
   },
   "outputs": [],
   "source": [
    "import pandas as pd\n",
    "import xgboost as xgb\n",
    "from sklearn.cross_validation import train_test_split\n",
    "# 训练特征文件\n",
    "f_train = 'feature.csv'\n",
    "# 预测特征文件\n",
    "f_predict = 'feature.csv'\n",
    "# 提交结果文件\n",
    "f_submit = 'Loan_Forecasting_Upload.csv'\n",
    "\n",
    "# 测试集比例\n",
    "test_size=0.2"
   ]
  },
  {
   "cell_type": "markdown",
   "metadata": {
    "collapsed": true
   },
   "source": [
    "模型调优    \n",
    "loss function 为 Linear Square Loss。    \n",
    "xgboost参数页面[https://github.com/dmlc/xgboost/blob/master/doc/parameter.md]"
   ]
  },
  {
   "cell_type": "code",
   "execution_count": null,
   "metadata": {
    "collapsed": true
   },
   "outputs": [],
   "source": [
    "num_round = 16\n",
    "param = {\n",
    "    'max_depth': 2,\n",
    "    'eta': 1,\n",
    "    'silent': 1,\n",
    "    'objective': 'reg:linear',\n",
    "    'eval_metric': 'rmse'\n",
    "}\n",
    "\n",
    "feature = pd.read_csv(f_train)\n",
    "label = pd.read_csv('t_loan_sum.csv', usecols=['uid', 'loan_sum'])\n",
    "data = feature.merge(label, on='uid')\n",
    "data = data.set_index('uid')\n",
    "train, test = train_test_split(data, test_size=test_size, random_state=1)\n",
    "\n",
    "feature_cols = train.columns.drop('loan_sum')\n",
    "dtrain = xgb.DMatrix(train[feature_cols], train['loan_sum'])\n",
    "dtest = xgb.DMatrix(test[feature_cols], test['loan_sum'])\n",
    "\n",
    "bst = xgb.train(param, dtrain, num_round)\n",
    "print(bst.eval(dtrain))\n",
    "print(bst.eval(dtest))num_round = 16\n",
    "\n",
    "print(bst.get_score())"
   ]
  },
  {
   "cell_type": "markdown",
   "metadata": {},
   "source": [
    "生成预测结果"
   ]
  },
  {
   "cell_type": "code",
   "execution_count": null,
   "metadata": {
    "collapsed": true
   },
   "outputs": [],
   "source": [
    "dtrain = xgb.DMatrix(data[data.columns.drop('loan_sum')], data['loan_sum'])\n",
    "bst = xgb.train(param, dtrain, num_round)\n",
    "print(bst.eval(dtrain))\n",
    "print(bst.get_score())\n",
    "\n",
    "predict = pd.read_csv(f_predict, index_col='uid')\n",
    "dpredict = xgb.DMatrix(predict[feature_cols])\n",
    "\n",
    "submit = predict.index.to_frame()\n",
    "submit['predict']=bst.predict(dpredict)\n",
    "submit.to_csv(f_submit,header=False,index=False)\n",
    "print('write submit file to '+f_submit)"
   ]
  }
 ],
 "metadata": {
  "kernelspec": {
   "display_name": "Python 3",
   "language": "python",
   "name": "python3"
  },
  "language_info": {
   "codemirror_mode": {
    "name": "ipython",
    "version": 3.0
   },
   "file_extension": ".py",
   "mimetype": "text/x-python",
   "name": "python",
   "nbconvert_exporter": "python",
   "pygments_lexer": "ipython3",
   "version": "3.6.0"
  }
 },
 "nbformat": 4,
 "nbformat_minor": 0
}